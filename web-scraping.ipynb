{
 "cells": [
  {
   "cell_type": "markdown",
   "metadata": {},
   "source": [
    "# Web Mining and Applied NLP (44-620)\n",
    "\n",
    "## Web Scraping and NLP with Requests, BeautifulSoup, and spaCy\n",
    "\n",
    "### Student Name: Topaz Montague [P6: Web Scraping, NLP (Requests, BeautifulSoup, and spaCy) Project Repository](https://github.com/tfmontague/web-scraping)\n",
    "\n",
    "Perform the tasks described in the Markdown cells below.  When you have completed the assignment make sure your code cells have all been run (and have output beneath them) and ensure you have committed and pushed ALL of your changes to your assignment repository.\n",
    "\n",
    "Every question that requires you to write code will have a code cell underneath it; you may either write your entire solution in that cell or write it in a python file (`.py`), then import and run the appropriate code to answer the question."
   ]
  },
  {
   "cell_type": "markdown",
   "metadata": {},
   "source": [
    "1. Write code that extracts the article html from https://web.archive.org/web/20210327165005/https://hackaday.com/2021/03/22/how-laser-headlights-work/ and dumps it to a .pkl (or other appropriate file)"
   ]
  },
  {
   "cell_type": "markdown",
   "metadata": {},
   "source": [
    "##### Question 1 Response"
   ]
  },
  {
   "cell_type": "code",
   "execution_count": 9,
   "metadata": {},
   "outputs": [
    {
     "name": "stdout",
     "output_type": "stream",
     "text": [
      "Article content extracted and saved to .pkl file.\n"
     ]
    }
   ],
   "source": [
    "import requests\n",
    "from bs4 import BeautifulSoup\n",
    "import pickle\n",
    "\n",
    "# Fetch the article HTML\n",
    "url = \"https://web.archive.org/web/20210327165005/https://hackaday.com/2021/03/22/how-laser-headlights-work/\"\n",
    "response = requests.get(url)\n",
    "response.raise_for_status()  # Raise an exception for non-200 status codes\n",
    "\n",
    "# Parse the HTML using BeautifulSoup\n",
    "soup = BeautifulSoup(response.content, \"html.parser\")\n",
    "\n",
    "# Extract the article content\n",
    "article_content = soup.find(\"article\").decode_contents()  # Safely extract HTML content\n",
    "\n",
    "# Save the data as a .pkl file\n",
    "file_path = \"C:\\\\Users\\\\topaz\\\\Documents\\\\webmining-npl\\\\web-scraping\\\\data\\\\article_content.pkl\"\n",
    "with open(file_path, \"wb\") as file:\n",
    "   pickle.dump(article_content, file)\n",
    "\n",
    "print(\"Article content extracted and saved to .pkl file.\")\n"
   ]
  },
  {
   "cell_type": "markdown",
   "metadata": {},
   "source": [
    "2. Read in your article's html source from the file you created in question 1 and print it's text (use `.get_text()`)"
   ]
  },
  {
   "cell_type": "markdown",
   "metadata": {},
   "source": [
    "##### Question 2 Response"
   ]
  },
  {
   "cell_type": "code",
   "execution_count": 10,
   "metadata": {},
   "outputs": [
    {
     "name": "stdout",
     "output_type": "stream",
     "text": [
      "\n",
      "\n",
      "How Laser Headlights Work\n",
      "\n",
      "\n",
      "                130 Comments            \n",
      "\n",
      "by:\n",
      "Lewin Day\n",
      "\n",
      "\n",
      "\n",
      "March 22, 2021\n",
      "\n",
      "\n",
      "\n",
      "\n",
      "\n",
      "\n",
      "\n",
      "\n",
      "When we think about the onward march of automotive technology, headlights aren’t usually the first thing that come to mind. Engines, fuel efficiency, and the switch to electric power are all more front of mind. However, that doesn’t mean there aren’t thousands of engineers around the world working to improve the state of the art in automotive lighting day in, day out.\n",
      "Sealed beam headlights gave way to more modern designs once regulations loosened up, while bulbs moved from simple halogens to xenon HIDs and, more recently, LEDs. Now, a new technology is on the scene, with lasers!\n",
      "\n",
      "Laser Headlights?!\n",
      "BWM’s prototype laser headlight assemblies undergoing testing.\n",
      "The first image brought to mind by the phrase “laser headlights” is that of laser beams firing out the front of an automobile. Obviously, coherent beams of monochromatic light would make for poor illumination outside of a very specific spot quite some distance away. Thankfully for our eyes, laser headlights don’t work in this way at all.\n",
      "Instead, laser headlights consist of one or more solid state laser diodes mounted inside the headlight. These blue lasers are fired at a yellow phosphor, similar to that used in white LEDs. This produces a powerful, vibrant white light that can then be bounced off reflectors and out of the headlights towards the road. Laser headlights built in this way have several benefits. They’re more energy efficient than LEDs that put out the same amount of light, while also being more space efficient, too.\n",
      "BWM’s futuristic i8 was one of the first vehicles to ship with laser headlight technology.\n",
      "Laser headlights are still a nascent technology, thus far only appearing in a few BMW, Audi, and other select vehicles. BMW’s technology was developed in partnership with lighting experts OSRAM. In practice, a regular LED low-beam lamp is used, with the laser used to create an incredibly bright and focused spot, used for high-beams. This can provide illumination out to 600 meters ahead of the vehicle, double that of conventional LED high beams. The lights use indium gallium nitride diode lasers that were originally used in projectors, with power levels above 1 watt. One of the challenges in implementing such technology in an automotive environment is the need for it to operate at temperature extremes. While research lasers and laser pointers may primarily be used at typical room temperatures, automotive headlights must be able to withstand everything from 40 degrees below zero up to 50 degrees C. Thankfully, the laser’s high efficiency means it doesn’t have huge heat output of its own to further complicate things. Other engineering challenges involve tailoring the optics package for the rough-and-tumble, high vibration environment found in the automotive application. It’s also important to ensure, as with any such device, that the end user can’t be exposed to harmful laser radiation in the event of accident or malfunction.\n",
      "Tearing Down the Laser Headlight\n",
      "A marketing image showing the construction of an aftermarket LED/laser headlight. We’d take the laser power with a grain of salt — it’s difficult to imagine a 10 W laser shining directly on some small LEDs without melting a hole through the board in short order.\n",
      "An aftermarket has sprung up too, with delightfully innovative designs. Combined laser/LED headlights are readily available on Alibaba, designed as a drop in replacement for projector lamps on existing vehicles. These often use an LED low-beam, and a combined LED/laser high beam, where the laser diode shoots directly at the LED phosphor to excite it further, rather than using its own. These units often also come with fan cooling to keep the laser and LEDs below their maximum operational temperature. Such developments are exciting, though it’s important to be wary of the performance of unknown aftermarket headlights. Many aftermarket LED headlight “upgrades” fail to pass muster when it comes to real-world performance, and there’s no reason to believe hybrid LED/laser designs will be any different. We’d love to pass a selection of these parts through a full IIHS test protocol, but that’s sadly beyond the scope (and budget!) of this article.\n",
      "However, [mikeselectricstuff] has happened to lay his hands on both the BMW and aftermarket parts, tearing them all down in his workshop to see what makes them tick. The differences are multitude when laid bare on the bench. The AliExpress part is relatively simple, wired up no differently from a regular headlight. Interestingly, however, the laser high-beam circuit runs all the time in these parts. To prevent blinding other road users, a shutter is kept in place to block the light, which is moved out of the way with a solenoid when the driver turns on the high beam switch.\n",
      "Where the aftermarket part is a little out of left field, the BMW design is another thing entirely. The cutting-edge headlights are hooked up with multiple connectors and over 30 conductors, with much of the driver electronics living in an external controller. Much of this is to drive the various LEDs and stepper motors for slewing the headlights when steering. However, the laser assembly brings its own complexities. Twin light sensors are built inside to monitor the laser beam, and a special metal blocking arm sits directly in front of the diode, presumably to stop the laser light leaving the headlight in the event the phosphor coating burns through. It’s truly wild to get a look inside a modern luxury car’s headlight and see just how far we’ve come from the old days of simple sealed beams.\n",
      "Cost Versus Performance\n",
      "Despite the efficiency gains available, the technology remains expensive. Powerful laser diodes don’t come cheap, after all. However, as the technology trickles down to lower-end models, it’s likely that we could see economies of scale change that for the better. Indeed, if national authorities begin to demand higher performance headlights as standard, we could see laser headlights become the norm, rather than an expensive luxury. The technology could naturally be applied to home and commercial lighting, too — though we suspect the potential gains are limited enough that LED lighting will remain the norm for some time to come.\n",
      "The high light output of laser headlights in a compact package allows engineers greater freedom when designing the front-end of a car.\n",
      "As it currently stands, much of the appeal of the new technology is about the packaging benefits, which allow automotive designers greater freedom around the headlight area. Such concerns are less of a factor when it comes to light fittings in the home or office, or indeed, on lower-end automobiles. Regardless, it’s an exciting new application for lasers and one we’ll be sure to see more of in the future.\n",
      " \n",
      "\n",
      "\n",
      "\n",
      "\n",
      " \n",
      "\n",
      "\n",
      "\n",
      "\n",
      "\n",
      "\n",
      "\n",
      "\n",
      "\n",
      "\n",
      "\n",
      "\n",
      "\n",
      "\n",
      "\n",
      "\n",
      "\n",
      "\n",
      "\n",
      "Posted in car hacks, Engineering, Featured, Laser Hacks, SliderTagged laser, laser headlight, laser headlights, light \n",
      "\n"
     ]
    }
   ],
   "source": [
    "import pickle\n",
    "from bs4 import BeautifulSoup\n",
    "\n",
    "# The path to the .pkl file\n",
    "file_path = r'C:\\Users\\topaz\\Documents\\webmining-npl\\web-scraping\\data\\article_content.pkl'\n",
    "\n",
    "# Open and read the .pkl file\n",
    "with open(file_path, 'rb') as file:\n",
    "    article_html = pickle.load(file)\n",
    "\n",
    "# Parse the HTML content\n",
    "soup = BeautifulSoup(article_html, 'html.parser')\n",
    "\n",
    "# Extract text using .get_text()\n",
    "article_text = soup.get_text()\n",
    "\n",
    "print(article_text)\n"
   ]
  },
  {
   "cell_type": "markdown",
   "metadata": {},
   "source": [
    "3. Load the article text into a trained `spaCy` pipeline, and determine the 5 most frequent tokens (converted to lower case).  Print the common tokens with an appropriate label.  Additionally, print the tokens their frequencies (with appropriate labels). Make sure to remove things we don't care about (punctuation, stopwords, whitespace)."
   ]
  },
  {
   "cell_type": "markdown",
   "metadata": {},
   "source": [
    "##### Question 3 Response"
   ]
  },
  {
   "cell_type": "code",
   "execution_count": 11,
   "metadata": {},
   "outputs": [
    {
     "name": "stdout",
     "output_type": "stream",
     "text": [
      "Most Common Tokens and Frequencies:\n",
      "Token: laser, Frequency: 35\n",
      "Token: headlights, Frequency: 19\n",
      "Token: headlight, Frequency: 11\n",
      "Token: technology, Frequency: 10\n",
      "Token: led, Frequency: 10\n"
     ]
    }
   ],
   "source": [
    "import pickle\n",
    "from bs4 import BeautifulSoup\n",
    "import spacy\n",
    "from collections import Counter\n",
    "\n",
    "# Load the spaCy English model\n",
    "nlp = spacy.load(\"en_core_web_sm\")\n",
    "\n",
    "# The path to the .pkl file\n",
    "file_path = r'C:\\Users\\topaz\\Documents\\webmining-npl\\web-scraping\\data\\article_content.pkl'\n",
    "\n",
    "# Load and parse the article's HTML content\n",
    "with open(file_path, 'rb') as file:\n",
    "    article_html = pickle.load(file)\n",
    "soup = BeautifulSoup(article_html, 'html.parser')\n",
    "article_text = soup.get_text()\n",
    "\n",
    "# Process the text with spaCy\n",
    "doc = nlp(article_text)\n",
    "\n",
    "# Filter tokens (ignore punctuation, stopwords, and whitespace)\n",
    "tokens = [token.text.lower() for token in doc if not token.is_punct and not token.is_stop and not token.is_space]\n",
    "\n",
    "# Count the frequency of each token\n",
    "token_freq = Counter(tokens)\n",
    "\n",
    "# Get the 5 most common tokens\n",
    "most_common_tokens = token_freq.most_common(5)\n",
    "\n",
    "print(\"Most Common Tokens and Frequencies:\")\n",
    "for token, freq in most_common_tokens:\n",
    "    print(f\"Token: {token}, Frequency: {freq}\")\n"
   ]
  },
  {
   "cell_type": "markdown",
   "metadata": {},
   "source": [
    "4. Load the article text into a trained `spaCy` pipeline, and determine the 5 most frequent lemmas (converted to lower case).  Print the common lemmas with an appropriate label.  Additionally, print the lemmas with their frequencies (with appropriate labels). Make sure to remove things we don't care about (punctuation, stopwords, whitespace)."
   ]
  },
  {
   "cell_type": "markdown",
   "metadata": {},
   "source": [
    "##### Question 4 Response"
   ]
  },
  {
   "cell_type": "code",
   "execution_count": 12,
   "metadata": {},
   "outputs": [
    {
     "name": "stdout",
     "output_type": "stream",
     "text": [
      "Most Common Lemmas and Frequencies:\n",
      "Lemma: laser, Frequency: 40\n",
      "Lemma: headlight, Frequency: 28\n",
      "Lemma: beam, Frequency: 12\n",
      "Lemma: technology, Frequency: 10\n",
      "Lemma: light, Frequency: 10\n"
     ]
    }
   ],
   "source": [
    "import pickle\n",
    "from bs4 import BeautifulSoup\n",
    "import spacy\n",
    "from collections import Counter\n",
    "\n",
    "# Load the spaCy English model\n",
    "nlp = spacy.load(\"en_core_web_sm\")\n",
    "\n",
    "# The path to the .pkl file\n",
    "file_path = r'C:\\Users\\topaz\\Documents\\webmining-npl\\web-scraping\\data\\article_content.pkl'\n",
    "\n",
    "# Load and parse the article's HTML content\n",
    "with open(file_path, 'rb') as file:\n",
    "    article_html = pickle.load(file)\n",
    "soup = BeautifulSoup(article_html, 'html.parser')\n",
    "article_text = soup.get_text()\n",
    "\n",
    "# Process the text with spaCy\n",
    "doc = nlp(article_text)\n",
    "\n",
    "# Filter tokens and lemmatize (ignore punctuation, stopwords, and whitespace)\n",
    "lemmas = [token.lemma_.lower() for token in doc if not token.is_punct and not token.is_stop and not token.is_space]\n",
    "\n",
    "# Count the frequency of each lemma\n",
    "lemma_freq = Counter(lemmas)\n",
    "\n",
    "# Get the 5 most common lemmas\n",
    "most_common_lemmas = lemma_freq.most_common(5)\n",
    "\n",
    "print(\"Most Common Lemmas and Frequencies:\")\n",
    "for lemma, freq in most_common_lemmas:\n",
    "    print(f\"Lemma: {lemma}, Frequency: {freq}\")\n"
   ]
  },
  {
   "cell_type": "markdown",
   "metadata": {},
   "source": [
    "5. Define the following methods:\n",
    "    * `score_sentence_by_token(sentence, interesting_token)` that takes a sentence and a list of interesting token and returns the number of times that any of the interesting words appear in the sentence divided by the number of words in the sentence\n",
    "    * `score_sentence_by_lemma(sentence, interesting_lemmas)` that takes a sentence and a list of interesting lemmas and returns the number of times that any of the interesting lemmas appear in the sentence divided by the number of words in the sentence\n",
    "    \n",
    "You may find some of the code from the in class notes useful; feel free to use methods (rewrite them in this cell as well).  Test them by showing the score of the first sentence in your article using the frequent tokens and frequent lemmas identified in question 3."
   ]
  },
  {
   "cell_type": "markdown",
   "metadata": {},
   "source": [
    "##### Question 5 Response"
   ]
  },
  {
   "cell_type": "code",
   "execution_count": 13,
   "metadata": {},
   "outputs": [
    {
     "name": "stdout",
     "output_type": "stream",
     "text": [
      "First Sentence: \n",
      "\n",
      "How Laser Headlights Work\n",
      "\n",
      "\n",
      "                130 Comments            \n",
      "\n",
      "by:\n",
      "Lewin Day\n",
      "\n",
      "\n",
      "\n",
      "March 22, 2021\n",
      "\n",
      "\n",
      "\n",
      "\n",
      "\n",
      "\n",
      "\n",
      "\n",
      "\n",
      "Sentence Token Score: 0.2\n",
      "Sentence Lemma Score: 0.1\n"
     ]
    }
   ],
   "source": [
    "import pickle\n",
    "from bs4 import BeautifulSoup\n",
    "import spacy\n",
    "\n",
    "# Load the spaCy English model\n",
    "nlp = spacy.load(\"en_core_web_sm\")\n",
    "\n",
    "# Define the scoring functions\n",
    "def score_sentence_by_token(sentence, interesting_tokens):\n",
    "    doc = nlp(sentence)\n",
    "    tokens = [token.text.lower() for token in doc if not token.is_punct and not token.is_stop and not token.is_space]\n",
    "    score = sum(token in interesting_tokens for token in tokens) / len(tokens) if tokens else 0\n",
    "    return score\n",
    "\n",
    "def score_sentence_by_lemma(sentence, interesting_lemmas):\n",
    "    doc = nlp(sentence)\n",
    "    lemmas = [token.lemma_.lower() for token in doc if not token.is_punct and not token.is_stop and not token.is_space]\n",
    "    score = sum(lemma in interesting_lemmas for lemma in lemmas) / len(lemmas) if lemmas else 0\n",
    "    return score\n",
    "\n",
    "# The path to the .pkl file\n",
    "file_path = r'C:\\Users\\topaz\\Documents\\webmining-npl\\web-scraping\\data\\article_content.pkl'\n",
    "\n",
    "# Load and parse the article's HTML content\n",
    "with open(file_path, 'rb') as file:\n",
    "    article_html = pickle.load(file)\n",
    "\n",
    "soup = BeautifulSoup(article_html, 'html.parser')\n",
    "article_text = soup.get_text()\n",
    "\n",
    "# Process the entire article text with spaCy\n",
    "doc = nlp(article_text)\n",
    "\n",
    "# Extract the first sentence\n",
    "first_sentence = next(doc.sents).text\n",
    "\n",
    "# Lists of most common tokens and lemmas (replace these with your actual data)\n",
    "most_common_tokens = ['laser', 'headlights', 'headlight', 'technology', 'led']\n",
    "most_common_lemmas = ['laser', 'headlight', 'beam', 'technology', 'light']\n",
    "\n",
    "# Score the first sentence\n",
    "token_score = score_sentence_by_token(first_sentence, most_common_tokens)\n",
    "lemma_score = score_sentence_by_lemma(first_sentence, most_common_lemmas)\n",
    "\n",
    "print(\"First Sentence:\", first_sentence)\n",
    "print(f\"Sentence Token Score: {token_score}\")\n",
    "print(f\"Sentence Lemma Score: {lemma_score}\")\n"
   ]
  },
  {
   "cell_type": "markdown",
   "metadata": {},
   "source": [
    "6. Make a list containing the scores (using tokens) of every sentence in the article, and plot a histogram with appropriate titles and axis labels of the scores. From your histogram, what seems to be the most common range of scores (put the answer in a comment after your code)?"
   ]
  },
  {
   "cell_type": "markdown",
   "metadata": {},
   "source": [
    "##### Question 6 Response"
   ]
  },
  {
   "cell_type": "code",
   "execution_count": 14,
   "metadata": {},
   "outputs": [
    {
     "data": {
      "image/png": "[encoded data removed]",
      "text/plain": [
       "<Figure size 1000x600 with 1 Axes>"
      ]
     },
     "metadata": {},
     "output_type": "display_data"
    }
   ],
   "source": [
    "import pickle\n",
    "from bs4 import BeautifulSoup\n",
    "import spacy\n",
    "import matplotlib.pyplot as plt\n",
    "\n",
    "# Load the spaCy English model\n",
    "nlp = spacy.load(\"en_core_web_sm\")\n",
    "\n",
    "# Define the token scoring function\n",
    "def score_sentence_by_token(sentence, interesting_tokens):\n",
    "    doc = nlp(sentence)\n",
    "    tokens = [token.text.lower() for token in doc if not token.is_punct and not token.is_stop and not token.is_space]\n",
    "    score = sum(token in interesting_tokens for token in tokens) / len(tokens) if tokens else 0\n",
    "    return score\n",
    "\n",
    "# The path to your .pkl file\n",
    "file_path = r'C:\\Users\\topaz\\Documents\\webmining-npl\\web-scraping\\data\\article_content.pkl'\n",
    "\n",
    "# Load and parse the article's HTML content\n",
    "with open(file_path, 'rb') as file:\n",
    "    article_html = pickle.load(file)\n",
    "\n",
    "soup = BeautifulSoup(article_html, 'html.parser')\n",
    "article_text = soup.get_text()\n",
    "\n",
    "# Process the article text with spaCy\n",
    "doc = nlp(article_text)\n",
    "\n",
    "# Lists of most common tokens (use your actual data)\n",
    "most_common_tokens = ['laser', 'headlights', 'headlight', 'technology', 'led']\n",
    "\n",
    "# Score each sentence using tokens\n",
    "sentence_scores = [score_sentence_by_token(sentence.text, most_common_tokens) for sentence in doc.sents]\n",
    "\n",
    "# Plotting the histogram of sentence scores\n",
    "plt.figure(figsize=(10, 6))\n",
    "plt.hist(sentence_scores, bins=20, color='skyblue', edgecolor='black')\n",
    "plt.title('Histogram of Sentence Scores Based on Common Tokens')\n",
    "plt.xlabel('Score (Fraction of Common Tokens per Sentence)')\n",
    "plt.ylabel('Number of Sentences')\n",
    "plt.show()\n",
    "\n",
    "# The histogram shows that the most common range of scores for sentences based on common tokens is between 0.0 and 0.1. \n",
    "# This indicates that the majority of sentences contain a relatively low proportion of the common tokens identified in the analysis"
   ]
  },
  {
   "cell_type": "markdown",
   "metadata": {},
   "source": [
    "7. Make a list containing the scores (using lemmas) of every sentence in the article, and plot a histogram with appropriate titles and axis labels of the scores.  From your histogram, what seems to be the most common range of scores (put the answer in a comment after your code)?"
   ]
  },
  {
   "cell_type": "markdown",
   "metadata": {},
   "source": [
    "##### Question 7 Response"
   ]
  },
  {
   "cell_type": "code",
   "execution_count": 15,
   "metadata": {},
   "outputs": [
    {
     "data": {
      "image/png": "[encoded data removed]",
      "text/plain": [
       "<Figure size 1000x600 with 1 Axes>"
      ]
     },
     "metadata": {},
     "output_type": "display_data"
    }
   ],
   "source": [
    "import pickle\n",
    "from bs4 import BeautifulSoup\n",
    "import spacy\n",
    "from collections import Counter\n",
    "import matplotlib.pyplot as plt\n",
    "\n",
    "# Load the spaCy English model\n",
    "nlp = spacy.load('en_core_web_sm')\n",
    "\n",
    "# Define the lemma scoring function\n",
    "def score_sentence_by_lemma(sentence, interesting_lemmas):\n",
    "    doc = nlp(sentence)\n",
    "    lemmas = [token.lemma_.lower() for token in doc if not token.is_punct and not token.is_stop and not token.is_space]\n",
    "    score = sum(lemma in interesting_lemmas for lemma in lemmas) / len(lemmas) if lemmas else 0\n",
    "    return score\n",
    "\n",
    "# The path to your .pkl file\n",
    "file_path = r'C:\\Users\\topaz\\Documents\\webmining-npl\\web-scraping\\data\\article_content.pkl'\n",
    "\n",
    "# Load and parse the article's HTML content\n",
    "with open(file_path, 'rb') as file:\n",
    "    article_html = pickle.load(file)\n",
    "\n",
    "# Use BeautifulSoup to extract the text content from the HTML\n",
    "soup = BeautifulSoup(article_html, 'html.parser')\n",
    "article_text = soup.get_text()\n",
    "\n",
    "# Process the article text with spaCy\n",
    "doc = nlp(article_text)\n",
    "\n",
    "# Lists of most common lemmas identified previously\n",
    "most_common_lemmas = ['laser', 'headlight', 'beam', 'technology', 'light']\n",
    "\n",
    "# Score each sentence using lemmas\n",
    "sentence_lemma_scores = [score_sentence_by_lemma(sentence.text, most_common_lemmas) for sentence in doc.sents]\n",
    "\n",
    "# Plot the histogram of lemma scores\n",
    "plt.figure(figsize=(10, 6))\n",
    "plt.hist(sentence_lemma_scores, bins=20, color='skyblue', edgecolor='black')\n",
    "plt.title('Histogram of Sentence Scores Based on Common Lemmas')\n",
    "plt.xlabel('Score (Fraction of Common Lemmas per Sentence)')\n",
    "plt.ylabel('Number of Sentences')\n",
    "plt.grid(axis='y', alpha=0.75)\n",
    "plt.show()\n",
    "\n",
    "# The histogram provided indicates that the most common range of scores for sentences based on common lemmas is between 0.0 and 0.1, similar to the token-based scoring. \n",
    "# This range has the highest number of sentences, which suggests that sentences typically contain a low proportion of the identified common lemmas"
   ]
  },
  {
   "cell_type": "markdown",
   "metadata": {},
   "source": [
    "##### Question 8 and Inline Response to Question 8"
   ]
  },
  {
   "cell_type": "markdown",
   "metadata": {},
   "source": [
    "8. ##### Which tokens and lexems would be ommitted from the lists generated in questions 3 and 4 if we only wanted to consider nouns as interesting words? \n",
    "\n",
    "###### From Question  3 (Tokens): It's likely that all tokens mentioned (laser, headlights, headlight, technology, led) are nouns or can be used as nouns in context, so they might all remain. However, if any of these words were used in a different part of speech in the text (e.g., as a verb or adjective), those instances would be omitted.\n",
    "\n",
    "###### From Question 4 (Lemmas): Since laser, headlight, beam, technology, and light can all function as nouns, it's possible they would all remain in the list if used in that context. However, any non-noun usage would be omitted.\n",
    "\n",
    "\n",
    "##### How might we change the code to only consider nouns? Put your answer in this Markdown cell (you can edit it by double clicking it).\n",
    "\n",
    "###### Question  3 (tokens) the line that filters tokens should be modified to include a check for 'NOUN' to ensure only tokens that are nouns are included in the list:\n",
    "\n",
    "```python\n",
    "tokens = [token.text.lower() for token in doc if not token.is_punct and not token.is_stop and not token.is_space and token.pos_ == 'NOUN']\n",
    "```\n",
    "###### Question 4 (lemmas) the line that filters tokens and lemmatizes should be modified to check for nouns to ensure we only consider the lemmatized forms of nouns:\n",
    "\n",
    "```python\n",
    "lemmas = [token.lemma_.lower() for token in doc if not token.is_punct and not token.is_stop and not token.is_space and token.pos_ == 'NOUN']\n",
    "```\n"
   ]
  }
 ],
 "metadata": {
  "kernelspec": {
   "display_name": "Python 3",
   "language": "python",
   "name": "python3"
  },
  "language_info": {
   "codemirror_mode": {
    "name": "ipython",
    "version": 3
   },
   "file_extension": ".py",
   "mimetype": "text/x-python",
   "name": "python",
   "nbconvert_exporter": "python",
   "pygments_lexer": "ipython3",
   "version": "3.12.2"
  }
 },
 "nbformat": 4,
 "nbformat_minor": 4
}
